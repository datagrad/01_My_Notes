{
  "nbformat": 4,
  "nbformat_minor": 0,
  "metadata": {
    "colab": {
      "provenance": [],
      "authorship_tag": "ABX9TyP98bwGC5GEtpeiJg0S7tYT",
      "include_colab_link": true
    },
    "kernelspec": {
      "name": "python3",
      "display_name": "Python 3"
    },
    "language_info": {
      "name": "python"
    }
  },
  "cells": [
    {
      "cell_type": "markdown",
      "metadata": {
        "id": "view-in-github",
        "colab_type": "text"
      },
      "source": [
        "<a href=\"https://colab.research.google.com/github/datagrad/01_My_Notes/blob/main/Unlocking_the_Power_of_SQL_Window_Functions_for_Data_Scientists.ipynb\" target=\"_parent\"><img src=\"https://colab.research.google.com/assets/colab-badge.svg\" alt=\"Open In Colab\"/></a>"
      ]
    },
    {
      "cell_type": "code",
      "execution_count": null,
      "metadata": {
        "id": "-O-QAT58XWaq"
      },
      "outputs": [],
      "source": []
    },
    {
      "cell_type": "markdown",
      "source": [
        "## Unlocking the Power of SQL Window Functions for Data Scientists\n",
        "\n",
        "Welcome back to our SQL series for data scientists! In the previous blogs, we discussed SQL essentials, advanced SQL techniques, and took a deep dive into subqueries. Today, we will explore another powerful feature of SQL that often comes in handy for complex data analytics tasks: Window Functions.\n",
        "\n",
        "#### What You'll Learn:\n",
        "\n",
        "1. Introduction to SQL Window Functions\n",
        "2. Types of Window Functions\n",
        "3. Real-world Examples with a Cricket Dataset\n",
        "4. Common Use-cases in Data Science\n",
        "5. Performance Considerations\n",
        "\n",
        "#### Understanding the Dataset\n",
        "\n",
        "Before we delve into window functions, let's familiarize ourselves with the dataset we will use. The dataset contains rich information about cricket matches, including but not limited to season, venue, batting and bowling teams, and runs scored.\n",
        "\n",
        "Here is a snapshot of the dataset columns:\n",
        "\n",
        "- `match_id`: Unique identifier for the match\n",
        "- `season`: The season in which the match occurred\n",
        "- `start_date`: The start date of the match\n",
        "- `venue`: Where the match was played\n",
        "- `innings`: Innings number\n",
        "- `striker`: The player who is currently batting\n",
        "- `runs_off_bat`: Runs scored off the bat by the striker\n",
        "- ...and many more.\n",
        "\n",
        "#### Section 1: Introduction to SQL Window Functions\n",
        "\n",
        "Window Functions in SQL are a family of SQL operations that operate over a \"window\" of rows related to the current row within the result set. Unlike aggregate functions, which return a single value calculated from multiple rows, window functions return a single value for each row, based on the corresponding window of rows.\n",
        "\n",
        "#### Syntax:\n",
        "\n",
        "```sql\n",
        "SELECT column,\n",
        "       WINDOW_FUNCTION(column) OVER (PARTITION BY column ORDER BY column ROWS BETWEEN N PRECEDING AND M FOLLOWING)\n",
        "FROM table;\n",
        "```\n",
        "\n",
        "#### Section 2: Types of Window Functions\n",
        "\n",
        "1. **Ranking Functions**: Such as `RANK()`, `DENSE_RANK()`, and `ROW_NUMBER()`.\n",
        "2. **Aggregate Functions**: Like `SUM()`, `AVG()`, `MIN()`, and `MAX()` used as window functions.\n",
        "3. **Navigational Functions**: Including `FIRST_VALUE()`, `LAST_VALUE()`, `LEAD()`, and `LAG()`.\n",
        "\n",
        "#### Section 3: Real-world Examples with a Cricket Dataset\n",
        "\n",
        "Let's walk through some examples using our cricket dataset to understand how these functions can be useful in real-world analytics.\n",
        "\n",
        "##### Example 1: Finding the Cumulative Sum of Runs for Each Player in a Season\n",
        "\n",
        "```sql\n",
        "SELECT striker,\n",
        "       season,\n",
        "       SUM(runs_off_bat) OVER (PARTITION BY striker, season ORDER BY start_date) AS cum_runs\n",
        "FROM cricket_data;\n",
        "```\n",
        "\n",
        "##### Example 2: Calculating the Running Average of Each Player\n",
        "\n",
        "```sql\n",
        "SELECT striker,\n",
        "       AVG(runs_off_bat) OVER (PARTITION BY striker ORDER BY start_date ROWS BETWEEN 5 PRECEDING AND CURRENT ROW) AS running_avg\n",
        "FROM cricket_data;\n",
        "```\n",
        "\n",
        "#### Section 4: Common Use-cases in Data Science\n",
        "\n",
        "1. **Time Series Analysis**: Calculating moving averages, running totals, etc.\n",
        "2. **Ranking and Percentile Calculation**: Useful in leaderboards or sales performance metrics.\n",
        "3. **Data Imputation**: Filling missing values based on surrounding data.\n",
        "\n",
        "#### Section 5: Performance Considerations\n",
        "\n",
        "Window functions can be resource-intensive when dealing with large datasets. Therefore, understanding the query execution plan and indexing can help in optimizing the performance.\n",
        "\n",
        "### Conclusion\n",
        "\n",
        "SQL Window Functions are an advanced feature that can make your data analytics tasks simpler and more expressive. Whether you are working on complex data transformation pipelines or real-time analytics dashboards, mastering window functions will definitely up your SQL game.\n",
        "\n",
        "Stay tuned for our next blog, where we will explore another advanced SQL topic: Common Table Expressions (CTEs).\n",
        "\n",
        "---\n",
        "\n",
        "I hope this framework helps you in crafting your next blog post. Feel free to elaborate on each section and add code snippets or examples to make it more informative."
      ],
      "metadata": {
        "id": "xe7bBOCtXXf2"
      }
    }
  ]
}