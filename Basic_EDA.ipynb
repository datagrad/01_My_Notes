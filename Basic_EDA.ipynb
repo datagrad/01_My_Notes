{
  "nbformat": 4,
  "nbformat_minor": 0,
  "metadata": {
    "colab": {
      "provenance": [],
      "authorship_tag": "ABX9TyM9TPW45mINGCa55czYxEcW",
      "include_colab_link": true
    },
    "kernelspec": {
      "name": "python3",
      "display_name": "Python 3"
    },
    "language_info": {
      "name": "python"
    }
  },
  "cells": [
    {
      "cell_type": "markdown",
      "metadata": {
        "id": "view-in-github",
        "colab_type": "text"
      },
      "source": [
        "<a href=\"https://colab.research.google.com/github/datagrad/My_Notes/blob/main/Basic_EDA.ipynb\" target=\"_parent\"><img src=\"https://colab.research.google.com/assets/colab-badge.svg\" alt=\"Open In Colab\"/></a>"
      ]
    },
    {
      "cell_type": "markdown",
      "source": [
        "A comprehensive list of key operations in Exploratory Data Analysis (EDA) along with code examples. These steps will guide you through the EDA process from scratch:\n",
        "\n",
        "**1. Initial Inspection:**\n",
        "\n",
        "```python\n",
        "# Load necessary libraries and data\n",
        "import pandas as pd\n",
        "\n",
        "df = pd.read_csv('data.csv')\n",
        "\n",
        "# Display first few rows\n",
        "print(df.head())\n",
        "\n",
        "# Check data types and missing values\n",
        "print(df.info())\n",
        "\n",
        "# Check summary statistics\n",
        "print(df.describe())\n",
        "```\n",
        "\n",
        "**2. Data Cleaning:**\n",
        "\n",
        "```python\n",
        "# Handle missing values\n",
        "df.dropna(inplace=True)  # Remove rows with missing values\n",
        "df.fillna(value, inplace=True)  # Fill missing values with a specific value\n",
        "\n",
        "# Remove duplicate rows\n",
        "df.drop_duplicates(inplace=True)\n",
        "\n",
        "# Remove irrelevant columns\n",
        "df.drop(['column_name'], axis=1, inplace=True)\n",
        "```\n",
        "\n",
        "**3. Outlier Detection and Treatment:**\n",
        "\n",
        "```python\n",
        "# Detect outliers using box plot or Z-score\n",
        "outliers = df[(df['column_name'] < lower_threshold) | (df['column_name'] > upper_threshold)]\n",
        "\n",
        "# Replace outliers with median or mean\n",
        "df['column_name'] = np.where(df['column_name'] < lower_threshold, median_value, df['column_name'])\n",
        "```\n",
        "\n",
        "**4. Feature Engineering:**\n",
        "\n",
        "```python\n",
        "# Create new features\n",
        "df['new_feature'] = df['feature_1'] * df['feature_2']\n",
        "df['categorical_feature'] = df['numeric_feature'].apply(lambda x: 'high' if x > threshold else 'low')\n",
        "\n",
        "# Extract date features\n",
        "df['year'] = df['date_column'].dt.year\n",
        "df['month'] = df['date_column'].dt.month\n",
        "```\n",
        "\n",
        "**5. Correlation Analysis:**\n",
        "\n",
        "```python\n",
        "# Compute correlation matrix\n",
        "correlation_matrix = df.corr()\n",
        "\n",
        "# Visualize correlation heatmap\n",
        "import seaborn as sns\n",
        "sns.heatmap(correlation_matrix, annot=True, cmap='coolwarm')\n",
        "plt.show()\n",
        "```\n",
        "\n",
        "**6. Data Visualization:**\n",
        "\n",
        "```python\n",
        "# Import necessary libraries\n",
        "import matplotlib.pyplot as plt\n",
        "import seaborn as sns\n",
        "\n",
        "# Create various plots for univariate, bivariate, and multivariate analysis\n",
        "sns.histplot(df['numeric_feature'], bins=10)\n",
        "sns.scatterplot(x='feature_1', y='feature_2', data=df)\n",
        "sns.pairplot(df[['feature_1', 'feature_2', 'target']], hue='target')\n",
        "sns.lineplot(x='date_column', y='numeric_feature', data=df)\n",
        "```\n",
        "\n",
        "**7. Hypothesis Testing (Optional):**\n",
        "\n",
        "```python\n",
        "from scipy.stats import ttest_ind\n",
        "\n",
        "# Perform hypothesis testing (e.g., t-test)\n",
        "group_1 = df[df['category'] == 'A']['numeric_feature']\n",
        "group_2 = df[df['category'] == 'B']['numeric_feature']\n",
        "t_statistic, p_value = ttest_ind(group_1, group_2)\n",
        "```\n",
        "\n",
        "**8. Interpretation and Insights:**\n",
        "\n",
        "Review the visualizations, statistical summaries, and insights gained from the EDA process. Look for patterns, trends, correlations, and anomalies.\n",
        "\n",
        "Remember, these steps are iterative, and you might need to go back and forth between them as you discover new insights or identify areas that need further cleaning or exploration."
      ],
      "metadata": {
        "id": "lXZyGqs4gq2q"
      }
    },
    {
      "cell_type": "code",
      "execution_count": null,
      "metadata": {
        "id": "nmCxeF8DgoEg"
      },
      "outputs": [],
      "source": []
    }
  ]
}